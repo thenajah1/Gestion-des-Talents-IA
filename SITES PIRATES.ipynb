{
 "cells": [
  {
   "cell_type": "markdown",
   "id": "f996ddc6",
   "metadata": {},
   "source": [
    "# ETUDE EXPLORATOIRE DES DONNEES DES SITES DE  PIRATAGE DE FILM"
   ]
  },
  {
   "cell_type": "markdown",
   "id": "8b8710ca",
   "metadata": {},
   "source": [
    "_"
   ]
  },
  {
   "cell_type": "markdown",
   "id": "ad36427e",
   "metadata": {},
   "source": [
    "_"
   ]
  },
  {
   "cell_type": "markdown",
   "id": "50395d51",
   "metadata": {},
   "source": [
    "## ANALYSE DES DONNEES"
   ]
  },
  {
   "cell_type": "code",
   "execution_count": 3,
   "id": "73d340fb",
   "metadata": {},
   "outputs": [],
   "source": [
    "import pandas as pd \n",
    "import matplotlib.pyplot as plt\n",
    "import seaborn as sns\n",
    "import numpy as np\n",
    "from sklearn.cluster import KMeans\n",
    "from sklearn.preprocessing import StandardScaler\n",
    "from scipy.cluster.hierarchy import dendrogram, linkage"
   ]
  },
  {
   "cell_type": "code",
   "execution_count": 4,
   "id": "641440c8",
   "metadata": {},
   "outputs": [
    {
     "data": {
      "text/html": [
       "<div>\n",
       "<style scoped>\n",
       "    .dataframe tbody tr th:only-of-type {\n",
       "        vertical-align: middle;\n",
       "    }\n",
       "\n",
       "    .dataframe tbody tr th {\n",
       "        vertical-align: top;\n",
       "    }\n",
       "\n",
       "    .dataframe thead th {\n",
       "        text-align: right;\n",
       "    }\n",
       "</style>\n",
       "<table border=\"1\" class=\"dataframe\">\n",
       "  <thead>\n",
       "    <tr style=\"text-align: right;\">\n",
       "      <th></th>\n",
       "      <th>Unnamed: 0</th>\n",
       "      <th>IMDb-rating</th>\n",
       "      <th>appropriate_for</th>\n",
       "      <th>director</th>\n",
       "      <th>downloads</th>\n",
       "      <th>id</th>\n",
       "      <th>industry</th>\n",
       "      <th>language</th>\n",
       "      <th>posted_date</th>\n",
       "      <th>release_date</th>\n",
       "      <th>run_time</th>\n",
       "      <th>storyline</th>\n",
       "      <th>title</th>\n",
       "      <th>views</th>\n",
       "      <th>writer</th>\n",
       "    </tr>\n",
       "  </thead>\n",
       "  <tbody>\n",
       "    <tr>\n",
       "      <th>0</th>\n",
       "      <td>0</td>\n",
       "      <td>4.8</td>\n",
       "      <td>R</td>\n",
       "      <td>John Swab</td>\n",
       "      <td>304</td>\n",
       "      <td>372092</td>\n",
       "      <td>Hollywood / English</td>\n",
       "      <td>English</td>\n",
       "      <td>20 Feb, 2023</td>\n",
       "      <td>Jan 28 2023</td>\n",
       "      <td>105</td>\n",
       "      <td>Doc\\r\\n facilitates a fragile truce between th...</td>\n",
       "      <td>Little Dixie</td>\n",
       "      <td>2,794</td>\n",
       "      <td>John Swab</td>\n",
       "    </tr>\n",
       "    <tr>\n",
       "      <th>1</th>\n",
       "      <td>1</td>\n",
       "      <td>6.4</td>\n",
       "      <td>TV-PG</td>\n",
       "      <td>Paul Ziller</td>\n",
       "      <td>73</td>\n",
       "      <td>372091</td>\n",
       "      <td>Hollywood / English</td>\n",
       "      <td>English</td>\n",
       "      <td>20 Feb, 2023</td>\n",
       "      <td>Feb 05 2023</td>\n",
       "      <td>84</td>\n",
       "      <td>Caterer\\r\\n Goldy Berry reunites with detectiv...</td>\n",
       "      <td>Grilling Season: A Curious Caterer Mystery</td>\n",
       "      <td>1,002</td>\n",
       "      <td>John Christian Plummer</td>\n",
       "    </tr>\n",
       "    <tr>\n",
       "      <th>2</th>\n",
       "      <td>2</td>\n",
       "      <td>5.2</td>\n",
       "      <td>R</td>\n",
       "      <td>Ben Wheatley</td>\n",
       "      <td>1,427</td>\n",
       "      <td>343381</td>\n",
       "      <td>Hollywood / English</td>\n",
       "      <td>English,Hindi</td>\n",
       "      <td>20 Apr, 2021</td>\n",
       "      <td>Jun 18 2021</td>\n",
       "      <td>1h 47min</td>\n",
       "      <td>As the world searches for a cure to a disastro...</td>\n",
       "      <td>In the Earth</td>\n",
       "      <td>14,419</td>\n",
       "      <td>Ben Wheatley</td>\n",
       "    </tr>\n",
       "    <tr>\n",
       "      <th>3</th>\n",
       "      <td>3</td>\n",
       "      <td>8.1</td>\n",
       "      <td>NaN</td>\n",
       "      <td>Venky Atluri</td>\n",
       "      <td>1,549</td>\n",
       "      <td>372090</td>\n",
       "      <td>Tollywood</td>\n",
       "      <td>Hindi</td>\n",
       "      <td>20 Feb, 2023</td>\n",
       "      <td>Feb 17 2023</td>\n",
       "      <td>139</td>\n",
       "      <td>The life of a young man and his struggles agai...</td>\n",
       "      <td>Vaathi</td>\n",
       "      <td>4,878</td>\n",
       "      <td>Venky Atluri</td>\n",
       "    </tr>\n",
       "    <tr>\n",
       "      <th>4</th>\n",
       "      <td>4</td>\n",
       "      <td>4.6</td>\n",
       "      <td>NaN</td>\n",
       "      <td>Shaji Kailas</td>\n",
       "      <td>657</td>\n",
       "      <td>372089</td>\n",
       "      <td>Tollywood</td>\n",
       "      <td>Hindi</td>\n",
       "      <td>20 Feb, 2023</td>\n",
       "      <td>Jan 26 2023</td>\n",
       "      <td>122</td>\n",
       "      <td>A man named Kalidas gets stranded due to the p...</td>\n",
       "      <td>Alone</td>\n",
       "      <td>2,438</td>\n",
       "      <td>Rajesh Jayaraman</td>\n",
       "    </tr>\n",
       "    <tr>\n",
       "      <th>...</th>\n",
       "      <td>...</td>\n",
       "      <td>...</td>\n",
       "      <td>...</td>\n",
       "      <td>...</td>\n",
       "      <td>...</td>\n",
       "      <td>...</td>\n",
       "      <td>...</td>\n",
       "      <td>...</td>\n",
       "      <td>...</td>\n",
       "      <td>...</td>\n",
       "      <td>...</td>\n",
       "      <td>...</td>\n",
       "      <td>...</td>\n",
       "      <td>...</td>\n",
       "      <td>...</td>\n",
       "    </tr>\n",
       "    <tr>\n",
       "      <th>20543</th>\n",
       "      <td>20543</td>\n",
       "      <td>NaN</td>\n",
       "      <td>NaN</td>\n",
       "      <td>NaN</td>\n",
       "      <td>1,998</td>\n",
       "      <td>28957</td>\n",
       "      <td>Bollywood / Indian</td>\n",
       "      <td>Hindi</td>\n",
       "      <td>01 Jan, 1970</td>\n",
       "      <td>Mar 13 1959</td>\n",
       "      <td>NaN</td>\n",
       "      <td>NaN</td>\n",
       "      <td>Bhai-Bahen</td>\n",
       "      <td>6,219</td>\n",
       "      <td>NaN</td>\n",
       "    </tr>\n",
       "    <tr>\n",
       "      <th>20544</th>\n",
       "      <td>20544</td>\n",
       "      <td>7.7</td>\n",
       "      <td>NaN</td>\n",
       "      <td>Bimal Roy</td>\n",
       "      <td>6,080</td>\n",
       "      <td>28958</td>\n",
       "      <td>Bollywood / Indian</td>\n",
       "      <td>Hindi</td>\n",
       "      <td>01 Jan, 1970</td>\n",
       "      <td>May 13 1955</td>\n",
       "      <td>159</td>\n",
       "      <td>Devdas and Parvati had been inseparable as chi...</td>\n",
       "      <td>Devdas</td>\n",
       "      <td>16,376</td>\n",
       "      <td>Rajinder Singh Bedi, Saratchandra Chatterjee, ...</td>\n",
       "    </tr>\n",
       "    <tr>\n",
       "      <th>20545</th>\n",
       "      <td>20545</td>\n",
       "      <td>8.0</td>\n",
       "      <td>NaN</td>\n",
       "      <td>NaN</td>\n",
       "      <td>3,276</td>\n",
       "      <td>30459</td>\n",
       "      <td>Bollywood / Indian</td>\n",
       "      <td>Hindi</td>\n",
       "      <td>01 Jan, 1970</td>\n",
       "      <td>Mar 28 1958</td>\n",
       "      <td>1h 50min</td>\n",
       "      <td>While driving his car on a rainy night, Anand'...</td>\n",
       "      <td>Madhumati</td>\n",
       "      <td>7,220</td>\n",
       "      <td>NaN</td>\n",
       "    </tr>\n",
       "    <tr>\n",
       "      <th>20546</th>\n",
       "      <td>20546</td>\n",
       "      <td>NaN</td>\n",
       "      <td>NaN</td>\n",
       "      <td>NaN</td>\n",
       "      <td>309</td>\n",
       "      <td>371669</td>\n",
       "      <td>Wrestling</td>\n",
       "      <td>English</td>\n",
       "      <td>10 Feb, 2023</td>\n",
       "      <td>Feb 09 2023</td>\n",
       "      <td>NaN</td>\n",
       "      <td>NaN</td>\n",
       "      <td>TNA.Impact 2023-02-09</td>\n",
       "      <td>1,419</td>\n",
       "      <td>NaN</td>\n",
       "    </tr>\n",
       "    <tr>\n",
       "      <th>20547</th>\n",
       "      <td>20547</td>\n",
       "      <td>NaN</td>\n",
       "      <td>NaN</td>\n",
       "      <td>NaN</td>\n",
       "      <td>2,613</td>\n",
       "      <td>371816</td>\n",
       "      <td>Wrestling</td>\n",
       "      <td>English</td>\n",
       "      <td>14 Feb, 2023</td>\n",
       "      <td>Feb 13 2023</td>\n",
       "      <td>NaN</td>\n",
       "      <td>NaN</td>\n",
       "      <td>WWE Raw 2023-02-13</td>\n",
       "      <td>6,697</td>\n",
       "      <td>NaN</td>\n",
       "    </tr>\n",
       "  </tbody>\n",
       "</table>\n",
       "<p>20548 rows × 15 columns</p>\n",
       "</div>"
      ],
      "text/plain": [
       "       Unnamed: 0  IMDb-rating appropriate_for      director downloads  \\\n",
       "0               0          4.8               R     John Swab       304   \n",
       "1               1          6.4           TV-PG   Paul Ziller        73   \n",
       "2               2          5.2               R  Ben Wheatley     1,427   \n",
       "3               3          8.1             NaN  Venky Atluri     1,549   \n",
       "4               4          4.6             NaN  Shaji Kailas       657   \n",
       "...           ...          ...             ...           ...       ...   \n",
       "20543       20543          NaN             NaN           NaN     1,998   \n",
       "20544       20544          7.7             NaN     Bimal Roy     6,080   \n",
       "20545       20545          8.0             NaN           NaN     3,276   \n",
       "20546       20546          NaN             NaN           NaN       309   \n",
       "20547       20547          NaN             NaN           NaN     2,613   \n",
       "\n",
       "           id             industry       language   posted_date release_date  \\\n",
       "0      372092  Hollywood / English        English  20 Feb, 2023  Jan 28 2023   \n",
       "1      372091  Hollywood / English        English  20 Feb, 2023  Feb 05 2023   \n",
       "2      343381  Hollywood / English  English,Hindi  20 Apr, 2021  Jun 18 2021   \n",
       "3      372090            Tollywood          Hindi  20 Feb, 2023  Feb 17 2023   \n",
       "4      372089            Tollywood          Hindi  20 Feb, 2023  Jan 26 2023   \n",
       "...       ...                  ...            ...           ...          ...   \n",
       "20543   28957   Bollywood / Indian          Hindi  01 Jan, 1970  Mar 13 1959   \n",
       "20544   28958   Bollywood / Indian          Hindi  01 Jan, 1970  May 13 1955   \n",
       "20545   30459   Bollywood / Indian          Hindi  01 Jan, 1970  Mar 28 1958   \n",
       "20546  371669            Wrestling        English  10 Feb, 2023  Feb 09 2023   \n",
       "20547  371816            Wrestling        English  14 Feb, 2023  Feb 13 2023   \n",
       "\n",
       "       run_time                                          storyline  \\\n",
       "0           105  Doc\\r\\n facilitates a fragile truce between th...   \n",
       "1            84  Caterer\\r\\n Goldy Berry reunites with detectiv...   \n",
       "2      1h 47min  As the world searches for a cure to a disastro...   \n",
       "3           139  The life of a young man and his struggles agai...   \n",
       "4           122  A man named Kalidas gets stranded due to the p...   \n",
       "...         ...                                                ...   \n",
       "20543       NaN                                                NaN   \n",
       "20544       159  Devdas and Parvati had been inseparable as chi...   \n",
       "20545  1h 50min  While driving his car on a rainy night, Anand'...   \n",
       "20546       NaN                                                NaN   \n",
       "20547       NaN                                                NaN   \n",
       "\n",
       "                                            title   views  \\\n",
       "0                                    Little Dixie   2,794   \n",
       "1      Grilling Season: A Curious Caterer Mystery   1,002   \n",
       "2                                    In the Earth  14,419   \n",
       "3                                          Vaathi   4,878   \n",
       "4                                           Alone   2,438   \n",
       "...                                           ...     ...   \n",
       "20543                                  Bhai-Bahen   6,219   \n",
       "20544                                      Devdas  16,376   \n",
       "20545                                   Madhumati   7,220   \n",
       "20546                       TNA.Impact 2023-02-09   1,419   \n",
       "20547                          WWE Raw 2023-02-13   6,697   \n",
       "\n",
       "                                                  writer  \n",
       "0                                              John Swab  \n",
       "1                                 John Christian Plummer  \n",
       "2                                           Ben Wheatley  \n",
       "3                                           Venky Atluri  \n",
       "4                                       Rajesh Jayaraman  \n",
       "...                                                  ...  \n",
       "20543                                                NaN  \n",
       "20544  Rajinder Singh Bedi, Saratchandra Chatterjee, ...  \n",
       "20545                                                NaN  \n",
       "20546                                                NaN  \n",
       "20547                                                NaN  \n",
       "\n",
       "[20548 rows x 15 columns]"
      ]
     },
     "execution_count": 4,
     "metadata": {},
     "output_type": "execute_result"
    }
   ],
   "source": [
    "data=pd.read_csv(\"movies_dataset.csv\")\n",
    "data"
   ]
  },
  {
   "cell_type": "code",
   "execution_count": 5,
   "id": "96bead26",
   "metadata": {},
   "outputs": [
    {
     "data": {
      "text/plain": [
       "(20548, 15)"
      ]
     },
     "execution_count": 5,
     "metadata": {},
     "output_type": "execute_result"
    }
   ],
   "source": [
    "data.shape"
   ]
  },
  {
   "cell_type": "markdown",
   "id": "ee73cc26",
   "metadata": {},
   "source": [
    "#### Suppression de la colonne 'Unnamed: 0' qui n'est d'aucune utilité pour cette étude."
   ]
  },
  {
   "cell_type": "code",
   "execution_count": 6,
   "id": "6768ab38",
   "metadata": {},
   "outputs": [],
   "source": [
    "data.drop([\"Unnamed: 0\"], axis=1, inplace=True)"
   ]
  },
  {
   "cell_type": "markdown",
   "id": "255a81ed",
   "metadata": {},
   "source": [
    "#### Nouvelle data"
   ]
  },
  {
   "cell_type": "code",
   "execution_count": 7,
   "id": "edd645c4",
   "metadata": {},
   "outputs": [
    {
     "data": {
      "text/html": [
       "<div>\n",
       "<style scoped>\n",
       "    .dataframe tbody tr th:only-of-type {\n",
       "        vertical-align: middle;\n",
       "    }\n",
       "\n",
       "    .dataframe tbody tr th {\n",
       "        vertical-align: top;\n",
       "    }\n",
       "\n",
       "    .dataframe thead th {\n",
       "        text-align: right;\n",
       "    }\n",
       "</style>\n",
       "<table border=\"1\" class=\"dataframe\">\n",
       "  <thead>\n",
       "    <tr style=\"text-align: right;\">\n",
       "      <th></th>\n",
       "      <th>IMDb-rating</th>\n",
       "      <th>appropriate_for</th>\n",
       "      <th>director</th>\n",
       "      <th>downloads</th>\n",
       "      <th>id</th>\n",
       "      <th>industry</th>\n",
       "      <th>language</th>\n",
       "      <th>posted_date</th>\n",
       "      <th>release_date</th>\n",
       "      <th>run_time</th>\n",
       "      <th>storyline</th>\n",
       "      <th>title</th>\n",
       "      <th>views</th>\n",
       "      <th>writer</th>\n",
       "    </tr>\n",
       "  </thead>\n",
       "  <tbody>\n",
       "    <tr>\n",
       "      <th>0</th>\n",
       "      <td>4.8</td>\n",
       "      <td>R</td>\n",
       "      <td>John Swab</td>\n",
       "      <td>304</td>\n",
       "      <td>372092</td>\n",
       "      <td>Hollywood / English</td>\n",
       "      <td>English</td>\n",
       "      <td>20 Feb, 2023</td>\n",
       "      <td>Jan 28 2023</td>\n",
       "      <td>105</td>\n",
       "      <td>Doc\\r\\n facilitates a fragile truce between th...</td>\n",
       "      <td>Little Dixie</td>\n",
       "      <td>2,794</td>\n",
       "      <td>John Swab</td>\n",
       "    </tr>\n",
       "    <tr>\n",
       "      <th>1</th>\n",
       "      <td>6.4</td>\n",
       "      <td>TV-PG</td>\n",
       "      <td>Paul Ziller</td>\n",
       "      <td>73</td>\n",
       "      <td>372091</td>\n",
       "      <td>Hollywood / English</td>\n",
       "      <td>English</td>\n",
       "      <td>20 Feb, 2023</td>\n",
       "      <td>Feb 05 2023</td>\n",
       "      <td>84</td>\n",
       "      <td>Caterer\\r\\n Goldy Berry reunites with detectiv...</td>\n",
       "      <td>Grilling Season: A Curious Caterer Mystery</td>\n",
       "      <td>1,002</td>\n",
       "      <td>John Christian Plummer</td>\n",
       "    </tr>\n",
       "    <tr>\n",
       "      <th>2</th>\n",
       "      <td>5.2</td>\n",
       "      <td>R</td>\n",
       "      <td>Ben Wheatley</td>\n",
       "      <td>1,427</td>\n",
       "      <td>343381</td>\n",
       "      <td>Hollywood / English</td>\n",
       "      <td>English,Hindi</td>\n",
       "      <td>20 Apr, 2021</td>\n",
       "      <td>Jun 18 2021</td>\n",
       "      <td>1h 47min</td>\n",
       "      <td>As the world searches for a cure to a disastro...</td>\n",
       "      <td>In the Earth</td>\n",
       "      <td>14,419</td>\n",
       "      <td>Ben Wheatley</td>\n",
       "    </tr>\n",
       "    <tr>\n",
       "      <th>3</th>\n",
       "      <td>8.1</td>\n",
       "      <td>NaN</td>\n",
       "      <td>Venky Atluri</td>\n",
       "      <td>1,549</td>\n",
       "      <td>372090</td>\n",
       "      <td>Tollywood</td>\n",
       "      <td>Hindi</td>\n",
       "      <td>20 Feb, 2023</td>\n",
       "      <td>Feb 17 2023</td>\n",
       "      <td>139</td>\n",
       "      <td>The life of a young man and his struggles agai...</td>\n",
       "      <td>Vaathi</td>\n",
       "      <td>4,878</td>\n",
       "      <td>Venky Atluri</td>\n",
       "    </tr>\n",
       "    <tr>\n",
       "      <th>4</th>\n",
       "      <td>4.6</td>\n",
       "      <td>NaN</td>\n",
       "      <td>Shaji Kailas</td>\n",
       "      <td>657</td>\n",
       "      <td>372089</td>\n",
       "      <td>Tollywood</td>\n",
       "      <td>Hindi</td>\n",
       "      <td>20 Feb, 2023</td>\n",
       "      <td>Jan 26 2023</td>\n",
       "      <td>122</td>\n",
       "      <td>A man named Kalidas gets stranded due to the p...</td>\n",
       "      <td>Alone</td>\n",
       "      <td>2,438</td>\n",
       "      <td>Rajesh Jayaraman</td>\n",
       "    </tr>\n",
       "    <tr>\n",
       "      <th>...</th>\n",
       "      <td>...</td>\n",
       "      <td>...</td>\n",
       "      <td>...</td>\n",
       "      <td>...</td>\n",
       "      <td>...</td>\n",
       "      <td>...</td>\n",
       "      <td>...</td>\n",
       "      <td>...</td>\n",
       "      <td>...</td>\n",
       "      <td>...</td>\n",
       "      <td>...</td>\n",
       "      <td>...</td>\n",
       "      <td>...</td>\n",
       "      <td>...</td>\n",
       "    </tr>\n",
       "    <tr>\n",
       "      <th>20543</th>\n",
       "      <td>NaN</td>\n",
       "      <td>NaN</td>\n",
       "      <td>NaN</td>\n",
       "      <td>1,998</td>\n",
       "      <td>28957</td>\n",
       "      <td>Bollywood / Indian</td>\n",
       "      <td>Hindi</td>\n",
       "      <td>01 Jan, 1970</td>\n",
       "      <td>Mar 13 1959</td>\n",
       "      <td>NaN</td>\n",
       "      <td>NaN</td>\n",
       "      <td>Bhai-Bahen</td>\n",
       "      <td>6,219</td>\n",
       "      <td>NaN</td>\n",
       "    </tr>\n",
       "    <tr>\n",
       "      <th>20544</th>\n",
       "      <td>7.7</td>\n",
       "      <td>NaN</td>\n",
       "      <td>Bimal Roy</td>\n",
       "      <td>6,080</td>\n",
       "      <td>28958</td>\n",
       "      <td>Bollywood / Indian</td>\n",
       "      <td>Hindi</td>\n",
       "      <td>01 Jan, 1970</td>\n",
       "      <td>May 13 1955</td>\n",
       "      <td>159</td>\n",
       "      <td>Devdas and Parvati had been inseparable as chi...</td>\n",
       "      <td>Devdas</td>\n",
       "      <td>16,376</td>\n",
       "      <td>Rajinder Singh Bedi, Saratchandra Chatterjee, ...</td>\n",
       "    </tr>\n",
       "    <tr>\n",
       "      <th>20545</th>\n",
       "      <td>8.0</td>\n",
       "      <td>NaN</td>\n",
       "      <td>NaN</td>\n",
       "      <td>3,276</td>\n",
       "      <td>30459</td>\n",
       "      <td>Bollywood / Indian</td>\n",
       "      <td>Hindi</td>\n",
       "      <td>01 Jan, 1970</td>\n",
       "      <td>Mar 28 1958</td>\n",
       "      <td>1h 50min</td>\n",
       "      <td>While driving his car on a rainy night, Anand'...</td>\n",
       "      <td>Madhumati</td>\n",
       "      <td>7,220</td>\n",
       "      <td>NaN</td>\n",
       "    </tr>\n",
       "    <tr>\n",
       "      <th>20546</th>\n",
       "      <td>NaN</td>\n",
       "      <td>NaN</td>\n",
       "      <td>NaN</td>\n",
       "      <td>309</td>\n",
       "      <td>371669</td>\n",
       "      <td>Wrestling</td>\n",
       "      <td>English</td>\n",
       "      <td>10 Feb, 2023</td>\n",
       "      <td>Feb 09 2023</td>\n",
       "      <td>NaN</td>\n",
       "      <td>NaN</td>\n",
       "      <td>TNA.Impact 2023-02-09</td>\n",
       "      <td>1,419</td>\n",
       "      <td>NaN</td>\n",
       "    </tr>\n",
       "    <tr>\n",
       "      <th>20547</th>\n",
       "      <td>NaN</td>\n",
       "      <td>NaN</td>\n",
       "      <td>NaN</td>\n",
       "      <td>2,613</td>\n",
       "      <td>371816</td>\n",
       "      <td>Wrestling</td>\n",
       "      <td>English</td>\n",
       "      <td>14 Feb, 2023</td>\n",
       "      <td>Feb 13 2023</td>\n",
       "      <td>NaN</td>\n",
       "      <td>NaN</td>\n",
       "      <td>WWE Raw 2023-02-13</td>\n",
       "      <td>6,697</td>\n",
       "      <td>NaN</td>\n",
       "    </tr>\n",
       "  </tbody>\n",
       "</table>\n",
       "<p>20548 rows × 14 columns</p>\n",
       "</div>"
      ],
      "text/plain": [
       "       IMDb-rating appropriate_for      director downloads      id  \\\n",
       "0              4.8               R     John Swab       304  372092   \n",
       "1              6.4           TV-PG   Paul Ziller        73  372091   \n",
       "2              5.2               R  Ben Wheatley     1,427  343381   \n",
       "3              8.1             NaN  Venky Atluri     1,549  372090   \n",
       "4              4.6             NaN  Shaji Kailas       657  372089   \n",
       "...            ...             ...           ...       ...     ...   \n",
       "20543          NaN             NaN           NaN     1,998   28957   \n",
       "20544          7.7             NaN     Bimal Roy     6,080   28958   \n",
       "20545          8.0             NaN           NaN     3,276   30459   \n",
       "20546          NaN             NaN           NaN       309  371669   \n",
       "20547          NaN             NaN           NaN     2,613  371816   \n",
       "\n",
       "                  industry       language   posted_date release_date  \\\n",
       "0      Hollywood / English        English  20 Feb, 2023  Jan 28 2023   \n",
       "1      Hollywood / English        English  20 Feb, 2023  Feb 05 2023   \n",
       "2      Hollywood / English  English,Hindi  20 Apr, 2021  Jun 18 2021   \n",
       "3                Tollywood          Hindi  20 Feb, 2023  Feb 17 2023   \n",
       "4                Tollywood          Hindi  20 Feb, 2023  Jan 26 2023   \n",
       "...                    ...            ...           ...          ...   \n",
       "20543   Bollywood / Indian          Hindi  01 Jan, 1970  Mar 13 1959   \n",
       "20544   Bollywood / Indian          Hindi  01 Jan, 1970  May 13 1955   \n",
       "20545   Bollywood / Indian          Hindi  01 Jan, 1970  Mar 28 1958   \n",
       "20546            Wrestling        English  10 Feb, 2023  Feb 09 2023   \n",
       "20547            Wrestling        English  14 Feb, 2023  Feb 13 2023   \n",
       "\n",
       "       run_time                                          storyline  \\\n",
       "0           105  Doc\\r\\n facilitates a fragile truce between th...   \n",
       "1            84  Caterer\\r\\n Goldy Berry reunites with detectiv...   \n",
       "2      1h 47min  As the world searches for a cure to a disastro...   \n",
       "3           139  The life of a young man and his struggles agai...   \n",
       "4           122  A man named Kalidas gets stranded due to the p...   \n",
       "...         ...                                                ...   \n",
       "20543       NaN                                                NaN   \n",
       "20544       159  Devdas and Parvati had been inseparable as chi...   \n",
       "20545  1h 50min  While driving his car on a rainy night, Anand'...   \n",
       "20546       NaN                                                NaN   \n",
       "20547       NaN                                                NaN   \n",
       "\n",
       "                                            title   views  \\\n",
       "0                                    Little Dixie   2,794   \n",
       "1      Grilling Season: A Curious Caterer Mystery   1,002   \n",
       "2                                    In the Earth  14,419   \n",
       "3                                          Vaathi   4,878   \n",
       "4                                           Alone   2,438   \n",
       "...                                           ...     ...   \n",
       "20543                                  Bhai-Bahen   6,219   \n",
       "20544                                      Devdas  16,376   \n",
       "20545                                   Madhumati   7,220   \n",
       "20546                       TNA.Impact 2023-02-09   1,419   \n",
       "20547                          WWE Raw 2023-02-13   6,697   \n",
       "\n",
       "                                                  writer  \n",
       "0                                              John Swab  \n",
       "1                                 John Christian Plummer  \n",
       "2                                           Ben Wheatley  \n",
       "3                                           Venky Atluri  \n",
       "4                                       Rajesh Jayaraman  \n",
       "...                                                  ...  \n",
       "20543                                                NaN  \n",
       "20544  Rajinder Singh Bedi, Saratchandra Chatterjee, ...  \n",
       "20545                                                NaN  \n",
       "20546                                                NaN  \n",
       "20547                                                NaN  \n",
       "\n",
       "[20548 rows x 14 columns]"
      ]
     },
     "execution_count": 7,
     "metadata": {},
     "output_type": "execute_result"
    }
   ],
   "source": [
    "data"
   ]
  },
  {
   "cell_type": "markdown",
   "id": "e85b0eff",
   "metadata": {},
   "source": [
    "#### Vérification des valeurs manquantes et abérantes"
   ]
  },
  {
   "cell_type": "code",
   "execution_count": 8,
   "id": "d87eabc6",
   "metadata": {},
   "outputs": [
    {
     "data": {
      "text/plain": [
       "IMDb-rating         841\n",
       "appropriate_for    9476\n",
       "director           1938\n",
       "downloads             1\n",
       "id                    0\n",
       "industry              1\n",
       "language            542\n",
       "posted_date           1\n",
       "release_date          1\n",
       "run_time           1768\n",
       "storyline          1701\n",
       "title                 1\n",
       "views                 1\n",
       "writer             2192\n",
       "dtype: int64"
      ]
     },
     "execution_count": 8,
     "metadata": {},
     "output_type": "execute_result"
    }
   ],
   "source": [
    "data.isna().sum()"
   ]
  },
  {
   "cell_type": "code",
   "execution_count": 9,
   "id": "ac27a1af",
   "metadata": {},
   "outputs": [
    {
     "data": {
      "text/plain": [
       "0"
      ]
     },
     "execution_count": 9,
     "metadata": {},
     "output_type": "execute_result"
    }
   ],
   "source": [
    "data.duplicated().sum()"
   ]
  },
  {
   "cell_type": "markdown",
   "id": "047d8c9d",
   "metadata": {},
   "source": [
    "#### Aucune donnée dupliquée."
   ]
  },
  {
   "cell_type": "code",
   "execution_count": 10,
   "id": "13d4106f",
   "metadata": {},
   "outputs": [
    {
     "data": {
      "text/plain": [
       "18464"
      ]
     },
     "execution_count": 10,
     "metadata": {},
     "output_type": "execute_result"
    }
   ],
   "source": [
    "data.isna().sum().sum()"
   ]
  },
  {
   "cell_type": "code",
   "execution_count": 11,
   "id": "3ca1ac32",
   "metadata": {
    "scrolled": true
   },
   "outputs": [
    {
     "data": {
      "text/plain": [
       "(20548, 14)"
      ]
     },
     "execution_count": 11,
     "metadata": {},
     "output_type": "execute_result"
    }
   ],
   "source": [
    "data.shape"
   ]
  },
  {
   "cell_type": "code",
   "execution_count": 12,
   "id": "c384ce4f",
   "metadata": {},
   "outputs": [
    {
     "data": {
      "text/plain": [
       "2084"
      ]
     },
     "execution_count": 12,
     "metadata": {},
     "output_type": "execute_result"
    }
   ],
   "source": [
    "20548-18464"
   ]
  },
  {
   "cell_type": "markdown",
   "id": "31694ca3",
   "metadata": {},
   "source": [
    "### Presque tous nos données sont nan"
   ]
  },
  {
   "cell_type": "code",
   "execution_count": 13,
   "id": "865dff83",
   "metadata": {},
   "outputs": [
    {
     "data": {
      "text/plain": [
       "<AxesSubplot:>"
      ]
     },
     "execution_count": 13,
     "metadata": {},
     "output_type": "execute_result"
    },
    {
     "data": {
      "image/png": "[encoded data removed]",
      "text/plain": [
       "<Figure size 720x720 with 2 Axes>"
      ]
     },
     "metadata": {
      "needs_background": "light"
     },
     "output_type": "display_data"
    }
   ],
   "source": [
    "plt.figure(figsize = (10,10))\n",
    "\n",
    "sns.heatmap(data.isna())"
   ]
  },
  {
   "cell_type": "markdown",
   "id": "816b178a",
   "metadata": {},
   "source": [
    "#### Nous allons donc supprimer toutes les colonnes qui ont des valeurs manquantes>70% des données"
   ]
  },
  {
   "cell_type": "code",
   "execution_count": 14,
   "id": "3fc62107",
   "metadata": {
    "scrolled": true
   },
   "outputs": [
    {
     "data": {
      "text/plain": [
       "(20548, 14)"
      ]
     },
     "execution_count": 14,
     "metadata": {},
     "output_type": "execute_result"
    }
   ],
   "source": [
    "column_with_nan = data.columns[data.isnull().any()]\n",
    "data.shape"
   ]
  },
  {
   "cell_type": "code",
   "execution_count": 15,
   "id": "46e4c022",
   "metadata": {},
   "outputs": [],
   "source": [
    "for column in column_with_nan:(column, data[column].isnull().sum())"
   ]
  },
  {
   "cell_type": "code",
   "execution_count": 16,
   "id": "764c86ad",
   "metadata": {},
   "outputs": [
    {
     "name": "stderr",
     "output_type": "stream",
     "text": [
      "C:\\Users\\sance\\AppData\\Local\\Temp/ipykernel_28640/2941149517.py:3: FutureWarning: In a future version of pandas all arguments of DataFrame.drop except for the argument 'labels' will be keyword-only\n",
      "  data.drop(column,1, inplace=True)\n"
     ]
    }
   ],
   "source": [
    "for column in column_with_nan:\n",
    "    if data[column].isnull().sum()*100.0/data.shape[1] > 70.0:\n",
    "        data.drop(column,1, inplace=True)"
   ]
  },
  {
   "cell_type": "code",
   "execution_count": 17,
   "id": "ab6fd600",
   "metadata": {},
   "outputs": [
    {
     "data": {
      "text/plain": [
       "(20548, 7)"
      ]
     },
     "execution_count": 17,
     "metadata": {},
     "output_type": "execute_result"
    }
   ],
   "source": [
    "data.shape"
   ]
  },
  {
   "cell_type": "code",
   "execution_count": 18,
   "id": "67cb1346",
   "metadata": {},
   "outputs": [
    {
     "data": {
      "text/plain": [
       "6"
      ]
     },
     "execution_count": 18,
     "metadata": {},
     "output_type": "execute_result"
    }
   ],
   "source": [
    "data.isna().sum().sum()"
   ]
  },
  {
   "cell_type": "code",
   "execution_count": 19,
   "id": "13c7928b",
   "metadata": {},
   "outputs": [
    {
     "data": {
      "text/plain": [
       "0.004171417447648711"
      ]
     },
     "execution_count": 19,
     "metadata": {},
     "output_type": "execute_result"
    }
   ],
   "source": [
    "6/(20548*7)*100"
   ]
  },
  {
   "cell_type": "markdown",
   "id": "79862269",
   "metadata": {},
   "source": [
    "#### Nous avons environ 0% de données manquantes"
   ]
  },
  {
   "cell_type": "markdown",
   "id": "42f6b713",
   "metadata": {},
   "source": [
    "### Nouvelle Df après la suppression des colonnes irrécupérables "
   ]
  },
  {
   "cell_type": "code",
   "execution_count": 20,
   "id": "4c76057b",
   "metadata": {},
   "outputs": [
    {
     "data": {
      "text/html": [
       "<div>\n",
       "<style scoped>\n",
       "    .dataframe tbody tr th:only-of-type {\n",
       "        vertical-align: middle;\n",
       "    }\n",
       "\n",
       "    .dataframe tbody tr th {\n",
       "        vertical-align: top;\n",
       "    }\n",
       "\n",
       "    .dataframe thead th {\n",
       "        text-align: right;\n",
       "    }\n",
       "</style>\n",
       "<table border=\"1\" class=\"dataframe\">\n",
       "  <thead>\n",
       "    <tr style=\"text-align: right;\">\n",
       "      <th></th>\n",
       "      <th>downloads</th>\n",
       "      <th>id</th>\n",
       "      <th>industry</th>\n",
       "      <th>posted_date</th>\n",
       "      <th>release_date</th>\n",
       "      <th>title</th>\n",
       "      <th>views</th>\n",
       "    </tr>\n",
       "  </thead>\n",
       "  <tbody>\n",
       "    <tr>\n",
       "      <th>0</th>\n",
       "      <td>304</td>\n",
       "      <td>372092</td>\n",
       "      <td>Hollywood / English</td>\n",
       "      <td>20 Feb, 2023</td>\n",
       "      <td>Jan 28 2023</td>\n",
       "      <td>Little Dixie</td>\n",
       "      <td>2,794</td>\n",
       "    </tr>\n",
       "    <tr>\n",
       "      <th>1</th>\n",
       "      <td>73</td>\n",
       "      <td>372091</td>\n",
       "      <td>Hollywood / English</td>\n",
       "      <td>20 Feb, 2023</td>\n",
       "      <td>Feb 05 2023</td>\n",
       "      <td>Grilling Season: A Curious Caterer Mystery</td>\n",
       "      <td>1,002</td>\n",
       "    </tr>\n",
       "    <tr>\n",
       "      <th>2</th>\n",
       "      <td>1,427</td>\n",
       "      <td>343381</td>\n",
       "      <td>Hollywood / English</td>\n",
       "      <td>20 Apr, 2021</td>\n",
       "      <td>Jun 18 2021</td>\n",
       "      <td>In the Earth</td>\n",
       "      <td>14,419</td>\n",
       "    </tr>\n",
       "    <tr>\n",
       "      <th>3</th>\n",
       "      <td>1,549</td>\n",
       "      <td>372090</td>\n",
       "      <td>Tollywood</td>\n",
       "      <td>20 Feb, 2023</td>\n",
       "      <td>Feb 17 2023</td>\n",
       "      <td>Vaathi</td>\n",
       "      <td>4,878</td>\n",
       "    </tr>\n",
       "    <tr>\n",
       "      <th>4</th>\n",
       "      <td>657</td>\n",
       "      <td>372089</td>\n",
       "      <td>Tollywood</td>\n",
       "      <td>20 Feb, 2023</td>\n",
       "      <td>Jan 26 2023</td>\n",
       "      <td>Alone</td>\n",
       "      <td>2,438</td>\n",
       "    </tr>\n",
       "    <tr>\n",
       "      <th>...</th>\n",
       "      <td>...</td>\n",
       "      <td>...</td>\n",
       "      <td>...</td>\n",
       "      <td>...</td>\n",
       "      <td>...</td>\n",
       "      <td>...</td>\n",
       "      <td>...</td>\n",
       "    </tr>\n",
       "    <tr>\n",
       "      <th>20543</th>\n",
       "      <td>1,998</td>\n",
       "      <td>28957</td>\n",
       "      <td>Bollywood / Indian</td>\n",
       "      <td>01 Jan, 1970</td>\n",
       "      <td>Mar 13 1959</td>\n",
       "      <td>Bhai-Bahen</td>\n",
       "      <td>6,219</td>\n",
       "    </tr>\n",
       "    <tr>\n",
       "      <th>20544</th>\n",
       "      <td>6,080</td>\n",
       "      <td>28958</td>\n",
       "      <td>Bollywood / Indian</td>\n",
       "      <td>01 Jan, 1970</td>\n",
       "      <td>May 13 1955</td>\n",
       "      <td>Devdas</td>\n",
       "      <td>16,376</td>\n",
       "    </tr>\n",
       "    <tr>\n",
       "      <th>20545</th>\n",
       "      <td>3,276</td>\n",
       "      <td>30459</td>\n",
       "      <td>Bollywood / Indian</td>\n",
       "      <td>01 Jan, 1970</td>\n",
       "      <td>Mar 28 1958</td>\n",
       "      <td>Madhumati</td>\n",
       "      <td>7,220</td>\n",
       "    </tr>\n",
       "    <tr>\n",
       "      <th>20546</th>\n",
       "      <td>309</td>\n",
       "      <td>371669</td>\n",
       "      <td>Wrestling</td>\n",
       "      <td>10 Feb, 2023</td>\n",
       "      <td>Feb 09 2023</td>\n",
       "      <td>TNA.Impact 2023-02-09</td>\n",
       "      <td>1,419</td>\n",
       "    </tr>\n",
       "    <tr>\n",
       "      <th>20547</th>\n",
       "      <td>2,613</td>\n",
       "      <td>371816</td>\n",
       "      <td>Wrestling</td>\n",
       "      <td>14 Feb, 2023</td>\n",
       "      <td>Feb 13 2023</td>\n",
       "      <td>WWE Raw 2023-02-13</td>\n",
       "      <td>6,697</td>\n",
       "    </tr>\n",
       "  </tbody>\n",
       "</table>\n",
       "<p>20548 rows × 7 columns</p>\n",
       "</div>"
      ],
      "text/plain": [
       "      downloads      id             industry   posted_date release_date  \\\n",
       "0           304  372092  Hollywood / English  20 Feb, 2023  Jan 28 2023   \n",
       "1            73  372091  Hollywood / English  20 Feb, 2023  Feb 05 2023   \n",
       "2         1,427  343381  Hollywood / English  20 Apr, 2021  Jun 18 2021   \n",
       "3         1,549  372090            Tollywood  20 Feb, 2023  Feb 17 2023   \n",
       "4           657  372089            Tollywood  20 Feb, 2023  Jan 26 2023   \n",
       "...         ...     ...                  ...           ...          ...   \n",
       "20543     1,998   28957   Bollywood / Indian  01 Jan, 1970  Mar 13 1959   \n",
       "20544     6,080   28958   Bollywood / Indian  01 Jan, 1970  May 13 1955   \n",
       "20545     3,276   30459   Bollywood / Indian  01 Jan, 1970  Mar 28 1958   \n",
       "20546       309  371669            Wrestling  10 Feb, 2023  Feb 09 2023   \n",
       "20547     2,613  371816            Wrestling  14 Feb, 2023  Feb 13 2023   \n",
       "\n",
       "                                            title   views  \n",
       "0                                    Little Dixie   2,794  \n",
       "1      Grilling Season: A Curious Caterer Mystery   1,002  \n",
       "2                                    In the Earth  14,419  \n",
       "3                                          Vaathi   4,878  \n",
       "4                                           Alone   2,438  \n",
       "...                                           ...     ...  \n",
       "20543                                  Bhai-Bahen   6,219  \n",
       "20544                                      Devdas  16,376  \n",
       "20545                                   Madhumati   7,220  \n",
       "20546                       TNA.Impact 2023-02-09   1,419  \n",
       "20547                          WWE Raw 2023-02-13   6,697  \n",
       "\n",
       "[20548 rows x 7 columns]"
      ]
     },
     "execution_count": 20,
     "metadata": {},
     "output_type": "execute_result"
    }
   ],
   "source": [
    "data"
   ]
  },
  {
   "cell_type": "markdown",
   "id": "b17b0400",
   "metadata": {},
   "source": [
    "### Changement de types"
   ]
  },
  {
   "cell_type": "code",
   "execution_count": 23,
   "id": "9122e3a1",
   "metadata": {},
   "outputs": [
    {
     "data": {
      "text/plain": [
       "downloads       object\n",
       "id               int64\n",
       "industry        object\n",
       "posted_date     object\n",
       "release_date    object\n",
       "title           object\n",
       "views           object\n",
       "dtype: object"
      ]
     },
     "execution_count": 23,
     "metadata": {},
     "output_type": "execute_result"
    }
   ],
   "source": [
    "data.dtypes"
   ]
  },
  {
   "cell_type": "code",
   "execution_count": 28,
   "id": "b8a3bfa7",
   "metadata": {},
   "outputs": [],
   "source": [
    "# Mettre views and dowloads en numeric.\n",
    "for col in 'downloads', 'views':\n",
    "    data[col] = data[col].str.replace(',','')\n",
    "    data[col] = data[col].astype('float')"
   ]
  },
  {
   "cell_type": "code",
   "execution_count": 34,
   "id": "590b1569",
   "metadata": {},
   "outputs": [],
   "source": [
    "# Mettre id en strings.\n",
    "data['id'] = data['id'].astype(str)\n"
   ]
  },
  {
   "cell_type": "code",
   "execution_count": 32,
   "id": "281f0221",
   "metadata": {},
   "outputs": [],
   "source": [
    "# Mettre posted_date en datetime.\n",
    "data['posted_date'] = pd.to_datetime(data['posted_date'])"
   ]
  },
  {
   "cell_type": "code",
   "execution_count": 46,
   "id": "9807ded2",
   "metadata": {},
   "outputs": [],
   "source": [
    "data['release_date'] = pd.to_datetime(data['release_date'])"
   ]
  },
  {
   "cell_type": "code",
   "execution_count": 47,
   "id": "c1d0d419",
   "metadata": {},
   "outputs": [
    {
     "data": {
      "text/plain": [
       "downloads              float64\n",
       "id                      object\n",
       "industry                object\n",
       "posted_date     datetime64[ns]\n",
       "release_date    datetime64[ns]\n",
       "title                   object\n",
       "views                  float64\n",
       "dtype: object"
      ]
     },
     "execution_count": 47,
     "metadata": {},
     "output_type": "execute_result"
    }
   ],
   "source": [
    "data.dtypes"
   ]
  },
  {
   "cell_type": "markdown",
   "id": "71f6e238",
   "metadata": {},
   "source": [
    "### Après le nettoyage des données, nous allons effectuer des déductions."
   ]
  },
  {
   "cell_type": "markdown",
   "id": "ebccaf26",
   "metadata": {},
   "source": [
    "##  Quelle industrie est la plus touchée par le piratage ?"
   ]
  },
  {
   "cell_type": "code",
   "execution_count": 37,
   "id": "98a4c40e",
   "metadata": {},
   "outputs": [
    {
     "data": {
      "image/png": "[encoded data removed]",
      "text/plain": [
       "<Figure size 432x288 with 1 Axes>"
      ]
     },
     "metadata": {
      "needs_background": "light"
     },
     "output_type": "display_data"
    }
   ],
   "source": [
    "(data.groupby('industry').agg(unique=('id', 'nunique'),total=('id', 'count')).sort_values(by='total', ascending=True).plot(kind='barh'))\n",
    "\n",
    "plt.legend(loc='right')\n",
    "plt.title(\"Nombre d'identifiants de films par industrie\\n\", fontsize=25, loc='left')\n",
    "plt.show()"
   ]
  },
  {
   "cell_type": "markdown",
   "id": "f6425e32",
   "metadata": {},
   "source": [
    "### Malgré que le nombre d'id ne sont pas uniques, fort est de constater que l'industrie la plus touchée par le piratage est sans doute Hollywood/ English avec plus de 14000 ids au total et environ 12000 ids uniques."
   ]
  },
  {
   "cell_type": "markdown",
   "id": "759c79cf",
   "metadata": {},
   "source": [
    "_"
   ]
  },
  {
   "cell_type": "markdown",
   "id": "3a14683f",
   "metadata": {},
   "source": [
    "_"
   ]
  },
  {
   "cell_type": "markdown",
   "id": "71d6e4f2",
   "metadata": {},
   "source": [
    "## Quel film a le plus de vues et de téléchargements piratés ?"
   ]
  },
  {
   "cell_type": "code",
   "execution_count": 40,
   "id": "43dd06c1",
   "metadata": {},
   "outputs": [
    {
     "data": {
      "image/png": "[encoded data removed]",
      "text/plain": [
       "<Figure size 432x288 with 1 Axes>"
      ]
     },
     "metadata": {
      "needs_background": "light"
     },
     "output_type": "display_data"
    },
    {
     "name": "stdout",
     "output_type": "stream",
     "text": [
      "\n",
      "\n"
     ]
    },
    {
     "data": {
      "image/png": "[encoded data removed]",
      "text/plain": [
       "<Figure size 432x288 with 1 Axes>"
      ]
     },
     "metadata": {
      "needs_background": "light"
     },
     "output_type": "display_data"
    },
    {
     "name": "stdout",
     "output_type": "stream",
     "text": [
      "\n",
      "\n"
     ]
    }
   ],
   "source": [
    "for col in 'views', 'downloads':\n",
    "    (\n",
    "        data[['title', col]]\n",
    "        .sort_values(by=col, ascending=False)\n",
    "        .head(20)\n",
    "        .sort_values(by=col, ascending=True)\n",
    "        .plot( kind='barh',\n",
    "              y=col,\n",
    "              x='title',\n",
    "             legend=False)\n",
    "    )\n",
    "    plt.ylabel('')\n",
    "    plt.title(f'Films avec le plus de {col}\\n', fontsize=25, loc='left')\n",
    "    plt.show()\n",
    "    print('\\n')"
   ]
  },
  {
   "cell_type": "markdown",
   "id": "54953a3c",
   "metadata": {},
   "source": [
    "### Le film avec le plus de vues est Baaghi 2 et le plus téléchargé est Furious 7"
   ]
  },
  {
   "cell_type": "markdown",
   "id": "c3dbb25e",
   "metadata": {},
   "source": [
    "_"
   ]
  },
  {
   "cell_type": "markdown",
   "id": "833a1071",
   "metadata": {},
   "source": [
    "_"
   ]
  },
  {
   "cell_type": "code",
   "execution_count": 60,
   "id": "77ba266f",
   "metadata": {},
   "outputs": [
    {
     "data": {
      "text/plain": [
       "The Girl Who Escaped: The Kara Robinson Story    402\n",
       "Vaathi                                           402\n",
       "Who Invited Charlie?                             402\n",
       "Little Dixie                                     202\n",
       "The Inspection                                   202\n",
       "                                                ... \n",
       "Kesari                                             1\n",
       "Old Boys                                           1\n",
       "American Exit                                      1\n",
       "Adventures of Aladdin                              1\n",
       "Madhumati                                          1\n",
       "Name: title, Length: 16572, dtype: int64"
      ]
     },
     "execution_count": 60,
     "metadata": {},
     "output_type": "execute_result"
    }
   ],
   "source": [
    "data[\"title\"].value_counts()"
   ]
  },
  {
   "cell_type": "markdown",
   "id": "f9ba3631",
   "metadata": {},
   "source": [
    "___"
   ]
  },
  {
   "cell_type": "markdown",
   "id": "c3712c76",
   "metadata": {},
   "source": [
    "____"
   ]
  },
  {
   "cell_type": "markdown",
   "id": "d9faae56",
   "metadata": {},
   "source": [
    "_"
   ]
  },
  {
   "cell_type": "markdown",
   "id": "2e25386a",
   "metadata": {},
   "source": [
    "_"
   ]
  },
  {
   "cell_type": "markdown",
   "id": "f85330e2",
   "metadata": {},
   "source": [
    "### Je suis disposé à toute critique ou suggestion dans le but d'améliorer mon travail \n",
    "### Veuillez me contacter à cette adresse si vous avez d'autres notions à apporter sancesanogo@gmail.com"
   ]
  },
  {
   "cell_type": "code",
   "execution_count": null,
   "id": "f4e02a41",
   "metadata": {},
   "outputs": [],
   "source": []
  }
 ],
 "metadata": {
  "kernelspec": {
   "display_name": "Python 3 (ipykernel)",
   "language": "python",
   "name": "python3"
  },
  "language_info": {
   "codemirror_mode": {
    "name": "ipython",
    "version": 3
   },
   "file_extension": ".py",
   "mimetype": "text/x-python",
   "name": "python",
   "nbconvert_exporter": "python",
   "pygments_lexer": "ipython3",
   "version": "3.9.7"
  }
 },
 "nbformat": 4,
 "nbformat_minor": 5
}
